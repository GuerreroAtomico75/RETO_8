{
  "cells": [
    {
      "cell_type": "markdown",
      "metadata": {
        "id": "view-in-github",
        "colab_type": "text"
      },
      "source": [
        "<a href=\"https://colab.research.google.com/github/GuerreroAtomico75/RETO_8/blob/main/RETO8.ipynb\" target=\"_parent\"><img src=\"https://colab.research.google.com/assets/colab-badge.svg\" alt=\"Open In Colab\"/></a>"
      ]
    },
    {
      "cell_type": "markdown",
      "metadata": {
        "id": "OsECwDMz34-9"
      },
      "source": [
        "# RETO 8\n",
        "\n",
        "### Problemas\n",
        "\n",
        "#### 1. Imprimir un listado con los números del 1 al 100 cada uno con su respectivo cuadrado."
      ]
    },
    {
      "cell_type": "code",
      "execution_count": null,
      "metadata": {
        "id": "FapfoI0W34_E",
        "outputId": "56cd12b4-9a12-448b-f25e-d42105028087"
      },
      "outputs": [
        {
          "name": "stdout",
          "output_type": "stream",
          "text": [
            "Se imprimirá un listado donde se vean los números de 1 a 100 con sus respectivos cuadrados\n",
            "1, 1\n",
            "2, 4\n",
            "3, 9\n",
            "4, 16\n",
            "5, 25\n",
            "6, 36\n",
            "7, 49\n",
            "8, 64\n",
            "9, 81\n",
            "10, 100\n",
            "11, 121\n",
            "12, 144\n",
            "13, 169\n",
            "14, 196\n",
            "15, 225\n",
            "16, 256\n",
            "17, 289\n",
            "18, 324\n",
            "19, 361\n",
            "20, 400\n",
            "21, 441\n",
            "22, 484\n",
            "23, 529\n",
            "24, 576\n",
            "25, 625\n",
            "26, 676\n",
            "27, 729\n",
            "28, 784\n",
            "29, 841\n",
            "30, 900\n",
            "31, 961\n",
            "32, 1024\n",
            "33, 1089\n",
            "34, 1156\n",
            "35, 1225\n",
            "36, 1296\n",
            "37, 1369\n",
            "38, 1444\n",
            "39, 1521\n",
            "40, 1600\n",
            "41, 1681\n",
            "42, 1764\n",
            "43, 1849\n",
            "44, 1936\n",
            "45, 2025\n",
            "46, 2116\n",
            "47, 2209\n",
            "48, 2304\n",
            "49, 2401\n",
            "50, 2500\n",
            "51, 2601\n",
            "52, 2704\n",
            "53, 2809\n",
            "54, 2916\n",
            "55, 3025\n",
            "56, 3136\n",
            "57, 3249\n",
            "58, 3364\n",
            "59, 3481\n",
            "60, 3600\n",
            "61, 3721\n",
            "62, 3844\n",
            "63, 3969\n",
            "64, 4096\n",
            "65, 4225\n",
            "66, 4356\n",
            "67, 4489\n",
            "68, 4624\n",
            "69, 4761\n",
            "70, 4900\n",
            "71, 5041\n",
            "72, 5184\n",
            "73, 5329\n",
            "74, 5476\n",
            "75, 5625\n",
            "76, 5776\n",
            "77, 5929\n",
            "78, 6084\n",
            "79, 6241\n",
            "80, 6400\n",
            "81, 6561\n",
            "82, 6724\n",
            "83, 6889\n",
            "84, 7056\n",
            "85, 7225\n",
            "86, 7396\n",
            "87, 7569\n",
            "88, 7744\n",
            "89, 7921\n",
            "90, 8100\n",
            "91, 8281\n",
            "92, 8464\n",
            "93, 8649\n",
            "94, 8836\n",
            "95, 9025\n",
            "96, 9216\n",
            "97, 9409\n",
            "98, 9604\n",
            "99, 9801\n",
            "100, 10000\n"
          ]
        }
      ],
      "source": [
        "print(\"Se imprimirá un listado donde se vean los números de 1 a 100 con sus respectivos cuadrados\") #Mensaje Contextualizador\n",
        "for n in range(1, 101): # en el rango(1,101) Se pone ciento uno teniendo en cuenta que es un rango semiabierto, estando abierto al final.\n",
        "    cuadrado = n**2\n",
        "    print(n, cuadrado, sep=\", \") #Imprimimos a 'n' y a 'cuadrado' separados para que se pueda ver a cada número de 1 a 100 con su respectivo cuadrado"
      ]
    },
    {
      "cell_type": "markdown",
      "metadata": {
        "id": "SeO8JM9G34_G"
      },
      "source": [
        "#### 2. Imprimir un listado con los números impares desde 1 hasta 999 y seguidamente otro listado con los números pares desde 2 hasta 1000."
      ]
    },
    {
      "cell_type": "code",
      "execution_count": null,
      "metadata": {
        "id": "J8154CDo34_H",
        "outputId": "10d1da3a-28c5-4b5d-a73c-863a9786de9a"
      },
      "outputs": [
        {
          "name": "stdout",
          "output_type": "stream",
          "text": [
            "Se imprimiran dos listados, el primero de los números impares de 1 hasta 999, el segundo va a ser de 2 hasta 1000\n",
            "[1, 3, 5, 7, 9, 11, 13, 15, 17, 19, 21, 23, 25, 27, 29, 31, 33, 35, 37, 39, 41, 43, 45, 47, 49, 51, 53, 55, 57, 59, 61, 63, 65, 67, 69, 71, 73, 75, 77, 79, 81, 83, 85, 87, 89, 91, 93, 95, 97, 99, 101, 103, 105, 107, 109, 111, 113, 115, 117, 119, 121, 123, 125, 127, 129, 131, 133, 135, 137, 139, 141, 143, 145, 147, 149, 151, 153, 155, 157, 159, 161, 163, 165, 167, 169, 171, 173, 175, 177, 179, 181, 183, 185, 187, 189, 191, 193, 195, 197, 199, 201, 203, 205, 207, 209, 211, 213, 215, 217, 219, 221, 223, 225, 227, 229, 231, 233, 235, 237, 239, 241, 243, 245, 247, 249, 251, 253, 255, 257, 259, 261, 263, 265, 267, 269, 271, 273, 275, 277, 279, 281, 283, 285, 287, 289, 291, 293, 295, 297, 299, 301, 303, 305, 307, 309, 311, 313, 315, 317, 319, 321, 323, 325, 327, 329, 331, 333, 335, 337, 339, 341, 343, 345, 347, 349, 351, 353, 355, 357, 359, 361, 363, 365, 367, 369, 371, 373, 375, 377, 379, 381, 383, 385, 387, 389, 391, 393, 395, 397, 399, 401, 403, 405, 407, 409, 411, 413, 415, 417, 419, 421, 423, 425, 427, 429, 431, 433, 435, 437, 439, 441, 443, 445, 447, 449, 451, 453, 455, 457, 459, 461, 463, 465, 467, 469, 471, 473, 475, 477, 479, 481, 483, 485, 487, 489, 491, 493, 495, 497, 499, 501, 503, 505, 507, 509, 511, 513, 515, 517, 519, 521, 523, 525, 527, 529, 531, 533, 535, 537, 539, 541, 543, 545, 547, 549, 551, 553, 555, 557, 559, 561, 563, 565, 567, 569, 571, 573, 575, 577, 579, 581, 583, 585, 587, 589, 591, 593, 595, 597, 599, 601, 603, 605, 607, 609, 611, 613, 615, 617, 619, 621, 623, 625, 627, 629, 631, 633, 635, 637, 639, 641, 643, 645, 647, 649, 651, 653, 655, 657, 659, 661, 663, 665, 667, 669, 671, 673, 675, 677, 679, 681, 683, 685, 687, 689, 691, 693, 695, 697, 699, 701, 703, 705, 707, 709, 711, 713, 715, 717, 719, 721, 723, 725, 727, 729, 731, 733, 735, 737, 739, 741, 743, 745, 747, 749, 751, 753, 755, 757, 759, 761, 763, 765, 767, 769, 771, 773, 775, 777, 779, 781, 783, 785, 787, 789, 791, 793, 795, 797, 799, 801, 803, 805, 807, 809, 811, 813, 815, 817, 819, 821, 823, 825, 827, 829, 831, 833, 835, 837, 839, 841, 843, 845, 847, 849, 851, 853, 855, 857, 859, 861, 863, 865, 867, 869, 871, 873, 875, 877, 879, 881, 883, 885, 887, 889, 891, 893, 895, 897, 899, 901, 903, 905, 907, 909, 911, 913, 915, 917, 919, 921, 923, 925, 927, 929, 931, 933, 935, 937, 939, 941, 943, 945, 947, 949, 951, 953, 955, 957, 959, 961, 963, 965, 967, 969, 971, 973, 975, 977, 979, 981, 983, 985, 987, 989, 991, 993, 995, 997, 999]\n",
            "[2, 4, 6, 8, 10, 12, 14, 16, 18, 20, 22, 24, 26, 28, 30, 32, 34, 36, 38, 40, 42, 44, 46, 48, 50, 52, 54, 56, 58, 60, 62, 64, 66, 68, 70, 72, 74, 76, 78, 80, 82, 84, 86, 88, 90, 92, 94, 96, 98, 100, 102, 104, 106, 108, 110, 112, 114, 116, 118, 120, 122, 124, 126, 128, 130, 132, 134, 136, 138, 140, 142, 144, 146, 148, 150, 152, 154, 156, 158, 160, 162, 164, 166, 168, 170, 172, 174, 176, 178, 180, 182, 184, 186, 188, 190, 192, 194, 196, 198, 200, 202, 204, 206, 208, 210, 212, 214, 216, 218, 220, 222, 224, 226, 228, 230, 232, 234, 236, 238, 240, 242, 244, 246, 248, 250, 252, 254, 256, 258, 260, 262, 264, 266, 268, 270, 272, 274, 276, 278, 280, 282, 284, 286, 288, 290, 292, 294, 296, 298, 300, 302, 304, 306, 308, 310, 312, 314, 316, 318, 320, 322, 324, 326, 328, 330, 332, 334, 336, 338, 340, 342, 344, 346, 348, 350, 352, 354, 356, 358, 360, 362, 364, 366, 368, 370, 372, 374, 376, 378, 380, 382, 384, 386, 388, 390, 392, 394, 396, 398, 400, 402, 404, 406, 408, 410, 412, 414, 416, 418, 420, 422, 424, 426, 428, 430, 432, 434, 436, 438, 440, 442, 444, 446, 448, 450, 452, 454, 456, 458, 460, 462, 464, 466, 468, 470, 472, 474, 476, 478, 480, 482, 484, 486, 488, 490, 492, 494, 496, 498, 500, 502, 504, 506, 508, 510, 512, 514, 516, 518, 520, 522, 524, 526, 528, 530, 532, 534, 536, 538, 540, 542, 544, 546, 548, 550, 552, 554, 556, 558, 560, 562, 564, 566, 568, 570, 572, 574, 576, 578, 580, 582, 584, 586, 588, 590, 592, 594, 596, 598, 600, 602, 604, 606, 608, 610, 612, 614, 616, 618, 620, 622, 624, 626, 628, 630, 632, 634, 636, 638, 640, 642, 644, 646, 648, 650, 652, 654, 656, 658, 660, 662, 664, 666, 668, 670, 672, 674, 676, 678, 680, 682, 684, 686, 688, 690, 692, 694, 696, 698, 700, 702, 704, 706, 708, 710, 712, 714, 716, 718, 720, 722, 724, 726, 728, 730, 732, 734, 736, 738, 740, 742, 744, 746, 748, 750, 752, 754, 756, 758, 760, 762, 764, 766, 768, 770, 772, 774, 776, 778, 780, 782, 784, 786, 788, 790, 792, 794, 796, 798, 800, 802, 804, 806, 808, 810, 812, 814, 816, 818, 820, 822, 824, 826, 828, 830, 832, 834, 836, 838, 840, 842, 844, 846, 848, 850, 852, 854, 856, 858, 860, 862, 864, 866, 868, 870, 872, 874, 876, 878, 880, 882, 884, 886, 888, 890, 892, 894, 896, 898, 900, 902, 904, 906, 908, 910, 912, 914, 916, 918, 920, 922, 924, 926, 928, 930, 932, 934, 936, 938, 940, 942, 944, 946, 948, 950, 952, 954, 956, 958, 960, 962, 964, 966, 968, 970, 972, 974, 976, 978, 980, 982, 984, 986, 988, 990, 992, 994, 996, 998, 1000]\n"
          ]
        }
      ],
      "source": [
        "print(\"Se imprimiran dos listados, el primero de los números impares de 1 hasta 999, el segundo va a ser de 2 hasta 1000\") #Mensaje contextualizador sobre el programa\n",
        "#Creamos listas, una para los impares y otra para los pares\n",
        "imparLista = []\n",
        "parLista = []\n",
        "for n in range(1,1001): #El ciclo se repetirá para todos los 'n' del rango, teniendo en cuenta que el rango es abierto al final, por ende ponemos 1001\n",
        "    #Condicionamos, la primera condición es para los impares, si el modulo de (n,2) da 1 o la división de (n,2) da 0.5 entonces es impar, sino se cumple ninguna de las dos entonces es par\n",
        "    if n % 2 == 1 or n / 2 == 0.5:\n",
        "        imparLista.append(n) #Agregamos a la lista de los impares para esta condición\n",
        "    else:\n",
        "        parLista.append(n) #Agregamos a la lista de los para en esta condición\n",
        "\n",
        "#Imprimimos la lista de los impares y la lista de los pares\n",
        "print(imparLista)\n",
        "print(parLista)"
      ]
    },
    {
      "cell_type": "markdown",
      "metadata": {
        "id": "PLgj2uWU34_I"
      },
      "source": [
        "#### 3. Imprimir los números pares en forma descendente hasta 2 que son menores o iguales a un número natural n ≥ 2 dado"
      ]
    },
    {
      "cell_type": "code",
      "execution_count": null,
      "metadata": {
        "id": "JAxn5T0I34_J",
        "outputId": "0d2b6183-58ae-4a93-fe56-e73f2692f49d"
      },
      "outputs": [
        {
          "name": "stdout",
          "output_type": "stream",
          "text": [
            "10\n",
            "8\n",
            "6\n",
            "4\n",
            "2\n"
          ]
        }
      ],
      "source": [
        "n : int = int(input(\"Ingrese un número entero mayor o igual a 2: \")) #Le pedimos al usuario que ingrese un número mayor o igual a 0\n",
        "#Como la secuecia descendente debe ser par y cabe la posibilidad de que dicho número sea impar entonces si pasa eso, lo convertiremos en par restandole 1\n",
        "if n % 2 == 1:\n",
        "    n -= 1\n",
        "for n in range(n, 1, -2): # El rango empieza desde 'n' con intervalo cerrado, y termina en 1 con intervalo abierto, descendera dos números, por ende el -2\n",
        "    print(n) #Imprimimos 'n'"
      ]
    },
    {
      "cell_type": "markdown",
      "metadata": {
        "id": "AtJzbm8j34_K"
      },
      "source": [
        "#### 4. Imprimir los números de 1 hasta un número natural n dado, cada uno con su respectivo factorial"
      ]
    },
    {
      "cell_type": "code",
      "execution_count": null,
      "metadata": {
        "id": "X9jf_wl634_M",
        "outputId": "7ad1e248-8634-4c85-f5dc-ad9ebe122392"
      },
      "outputs": [
        {
          "name": "stdout",
          "output_type": "stream",
          "text": [
            "1, 1\n",
            "2, 2\n",
            "3, 6\n",
            "4, 24\n",
            "5, 120\n",
            "6, 720\n",
            "7, 5040\n",
            "8, 40320\n"
          ]
        }
      ],
      "source": [
        "n : int = int(input(\"Ingrese un número entero el cual corresponderá al final del rango: \")) #Le pedimos al usuario que ingrese el último número del rango\n",
        "for num in range(1, n+1): #El rango va a ser de 1 hasta n+1 para que l número ingresado también reciba su factorial\n",
        "    factorial = 1 #Incializamos variable factorial\n",
        "    for f in range(1, num + 1): #Creamos otro ciclo for, para que el num que se está en ese momento en el primer ciclo for sea multiplicado por cada valor del segundo ciclo. Así con cada valor del ciclo for.\n",
        "        factorial *= f #El valor de 'f' lo multiplicamos por el factorial\n",
        "    print(num, factorial, sep=\", \") #Por último se imprimen los números desde 1 hasta el número ingresado por el usuario, con su respectivo factorial cada número."
      ]
    },
    {
      "cell_type": "markdown",
      "metadata": {
        "id": "yB-71fey34_N"
      },
      "source": [
        "#### 5. Calcular el valor de 2 elevado a la potencia n usando ciclos for."
      ]
    },
    {
      "cell_type": "code",
      "execution_count": null,
      "metadata": {
        "id": "vBPicJfx34_N",
        "outputId": "336acb5b-f2e5-4d02-d6e7-fba67461eb2c"
      },
      "outputs": [
        {
          "name": "stdout",
          "output_type": "stream",
          "text": [
            "El resultado de 2 elevado a la 6 da 64\n"
          ]
        }
      ],
      "source": [
        "n : int = int(input(\"Ingrese un valor para el exponente: \")) #Se le pide al usuario que ingrese un valor para el exponente\n",
        "for e in range(n+1): #El rango que existira va a ser (n+1) para que el exponente 'n' pueda participar en la porencia\n",
        "    potencia = 2**e #La potencia va a ser 2 elevado a la 'e' que va a ser cada uno de los exponentes posibles del rango\n",
        "print(\"El resultado de 2 elevado a la\", n, \"da\", potencia) #El resultado de 2, elevado a la 'n' va a ser la ultima potencia que se hizo"
      ]
    },
    {
      "cell_type": "markdown",
      "metadata": {
        "id": "XGxh247E34_O"
      },
      "source": [
        "#### 6. Leer un número natural n, leer otro dato de tipo real x y calcular x^n usando ciclos for. Disclaimer: Trate de no utilizar el operador de potencia (**)."
      ]
    },
    {
      "cell_type": "code",
      "execution_count": null,
      "metadata": {
        "id": "alUz0XMC34_O",
        "outputId": "4fef03c9-78aa-41bc-84b4-9645a12c45d7"
      },
      "outputs": [
        {
          "name": "stdout",
          "output_type": "stream",
          "text": [
            "El resultado de la potencia es 25.0\n"
          ]
        }
      ],
      "source": [
        "#Inicializamos variables pidiendole al usuario que ingrese valores\n",
        "x : float = float(input(\"Ingrese un número real para la base: \"))\n",
        "n : int = int(input(\"Ingrese un número natural para el exponente: \"))\n",
        "base = 1 # La base será 1, para que se esté actalizando conforme a la multiplicación que se haga de la base por si misma.\n",
        "#El rango n será para el número de veces el cual se haga la multiplicación de la base por si misma\n",
        "for e in range(n):\n",
        "    base *= x #Esto es de lo que en los comentarios anteriores me refería\n",
        "print(\"El resultado de la potencia es\", base)"
      ]
    },
    {
      "cell_type": "markdown",
      "metadata": {
        "id": "xh9uhrVn34_O"
      },
      "source": [
        "#### 7. Diseñe un programa que muestre las tablas de multiplicar del 1 al 9."
      ]
    },
    {
      "cell_type": "code",
      "execution_count": null,
      "metadata": {
        "id": "52NlCCHl34_O",
        "outputId": "76c4a281-003d-4f98-868b-2e5a49bb7f14"
      },
      "outputs": [
        {
          "name": "stdout",
          "output_type": "stream",
          "text": [
            "La tabla del 1\n",
            "El resultado de 1 por 1 es igual a 1\n",
            "El resultado de 1 por 2 es igual a 2\n",
            "El resultado de 1 por 3 es igual a 3\n",
            "El resultado de 1 por 4 es igual a 4\n",
            "El resultado de 1 por 5 es igual a 5\n",
            "El resultado de 1 por 6 es igual a 6\n",
            "El resultado de 1 por 7 es igual a 7\n",
            "El resultado de 1 por 8 es igual a 8\n",
            "El resultado de 1 por 9 es igual a 9\n",
            "El resultado de 1 por 10 es igual a 10\n",
            "La tabla del 2\n",
            "El resultado de 2 por 1 es igual a 2\n",
            "El resultado de 2 por 2 es igual a 4\n",
            "El resultado de 2 por 3 es igual a 6\n",
            "El resultado de 2 por 4 es igual a 8\n",
            "El resultado de 2 por 5 es igual a 10\n",
            "El resultado de 2 por 6 es igual a 12\n",
            "El resultado de 2 por 7 es igual a 14\n",
            "El resultado de 2 por 8 es igual a 16\n",
            "El resultado de 2 por 9 es igual a 18\n",
            "El resultado de 2 por 10 es igual a 20\n",
            "La tabla del 3\n",
            "El resultado de 3 por 1 es igual a 3\n",
            "El resultado de 3 por 2 es igual a 6\n",
            "El resultado de 3 por 3 es igual a 9\n",
            "El resultado de 3 por 4 es igual a 12\n",
            "El resultado de 3 por 5 es igual a 15\n",
            "El resultado de 3 por 6 es igual a 18\n",
            "El resultado de 3 por 7 es igual a 21\n",
            "El resultado de 3 por 8 es igual a 24\n",
            "El resultado de 3 por 9 es igual a 27\n",
            "El resultado de 3 por 10 es igual a 30\n",
            "La tabla del 4\n",
            "El resultado de 4 por 1 es igual a 4\n",
            "El resultado de 4 por 2 es igual a 8\n",
            "El resultado de 4 por 3 es igual a 12\n",
            "El resultado de 4 por 4 es igual a 16\n",
            "El resultado de 4 por 5 es igual a 20\n",
            "El resultado de 4 por 6 es igual a 24\n",
            "El resultado de 4 por 7 es igual a 28\n",
            "El resultado de 4 por 8 es igual a 32\n",
            "El resultado de 4 por 9 es igual a 36\n",
            "El resultado de 4 por 10 es igual a 40\n",
            "La tabla del 5\n",
            "El resultado de 5 por 1 es igual a 5\n",
            "El resultado de 5 por 2 es igual a 10\n",
            "El resultado de 5 por 3 es igual a 15\n",
            "El resultado de 5 por 4 es igual a 20\n",
            "El resultado de 5 por 5 es igual a 25\n",
            "El resultado de 5 por 6 es igual a 30\n",
            "El resultado de 5 por 7 es igual a 35\n",
            "El resultado de 5 por 8 es igual a 40\n",
            "El resultado de 5 por 9 es igual a 45\n",
            "El resultado de 5 por 10 es igual a 50\n",
            "La tabla del 6\n",
            "El resultado de 6 por 1 es igual a 6\n",
            "El resultado de 6 por 2 es igual a 12\n",
            "El resultado de 6 por 3 es igual a 18\n",
            "El resultado de 6 por 4 es igual a 24\n",
            "El resultado de 6 por 5 es igual a 30\n",
            "El resultado de 6 por 6 es igual a 36\n",
            "El resultado de 6 por 7 es igual a 42\n",
            "El resultado de 6 por 8 es igual a 48\n",
            "El resultado de 6 por 9 es igual a 54\n",
            "El resultado de 6 por 10 es igual a 60\n",
            "La tabla del 7\n",
            "El resultado de 7 por 1 es igual a 7\n",
            "El resultado de 7 por 2 es igual a 14\n",
            "El resultado de 7 por 3 es igual a 21\n",
            "El resultado de 7 por 4 es igual a 28\n",
            "El resultado de 7 por 5 es igual a 35\n",
            "El resultado de 7 por 6 es igual a 42\n",
            "El resultado de 7 por 7 es igual a 49\n",
            "El resultado de 7 por 8 es igual a 56\n",
            "El resultado de 7 por 9 es igual a 63\n",
            "El resultado de 7 por 10 es igual a 70\n",
            "La tabla del 8\n",
            "El resultado de 8 por 1 es igual a 8\n",
            "El resultado de 8 por 2 es igual a 16\n",
            "El resultado de 8 por 3 es igual a 24\n",
            "El resultado de 8 por 4 es igual a 32\n",
            "El resultado de 8 por 5 es igual a 40\n",
            "El resultado de 8 por 6 es igual a 48\n",
            "El resultado de 8 por 7 es igual a 56\n",
            "El resultado de 8 por 8 es igual a 64\n",
            "El resultado de 8 por 9 es igual a 72\n",
            "El resultado de 8 por 10 es igual a 80\n",
            "La tabla del 9\n",
            "El resultado de 9 por 1 es igual a 9\n",
            "El resultado de 9 por 2 es igual a 18\n",
            "El resultado de 9 por 3 es igual a 27\n",
            "El resultado de 9 por 4 es igual a 36\n",
            "El resultado de 9 por 5 es igual a 45\n",
            "El resultado de 9 por 6 es igual a 54\n",
            "El resultado de 9 por 7 es igual a 63\n",
            "El resultado de 9 por 8 es igual a 72\n",
            "El resultado de 9 por 9 es igual a 81\n",
            "El resultado de 9 por 10 es igual a 90\n"
          ]
        }
      ],
      "source": [
        "#Primero creamos un rango de 1 hasta 9, en el cual m pasará por cada uno\n",
        "for m in range(1,10):\n",
        "    #Al pasar por cada uno se imprimirá entonces cual tabla se está pasando\n",
        "    print(\"La tabla del\", m)\n",
        "    #Como las tablas van a ir hasta el 10 entonces creamos un rango hasta el 10 en el cual pasará n\n",
        "    for n in range(1,11):\n",
        "        #Hacemos la multiplicación del m que se está haciendo por el n que está pasando\n",
        "        tablas = m*n\n",
        "        #Imprimimos\n",
        "        print(\"El resultado de\", m, \"por\", n, \"es igual a\", tablas)"
      ]
    },
    {
      "cell_type": "markdown",
      "metadata": {
        "id": "BjX1Hfo234_P"
      },
      "source": [
        "#### 8. Diseñar una función que permita calcular una aproximación de la función exponencial alrededor de 0 para cualquier valor x (real), utilizando los primeros n términos de la serie de Maclaurin. Nota: use math para traer la función exponencial y mostrar la diferencia entre el valor real y la aproximación."
      ]
    },
    {
      "cell_type": "code",
      "execution_count": null,
      "metadata": {
        "id": "CyD8P71f34_P",
        "outputId": "2c72cdb6-b971-4c61-b58b-02adec13f3f1"
      },
      "outputs": [
        {
          "name": "stdout",
          "output_type": "stream",
          "text": [
            "14  es el valor del exponente para que funcione la aproximación\n",
            "La aproximación de la función exponencial es 148.3095682047505\n",
            "La función exponencial real es 148.4131591025766\n",
            "La diferencia de la función real y la aproximación es 0.10359089782610909\n"
          ]
        }
      ],
      "source": [
        "#Importamos math y de math traemos la función exponencial y al factorial\n",
        "from math import exp, factorial\n",
        "#Creamos una función que nos ayude a llegar a la aproximación de la función exponencial\n",
        "def aproxFunc(x: float, e: int) -> float:\n",
        "    #Ponemos un condicional que nos especifíca que si la base es diferente de 1 se puede hacer el ejercicio, si no, no se podría porque en la función exponencial no se puede tener de base a 1\n",
        "    if x != 1:\n",
        "        funcAprox = 0\n",
        "        #El rango irá de 0 a e+1 para que se tenga en cuenta el exponente necesario\n",
        "        for i in range(0, e+1):\n",
        "            funcAprox += (x**i) / factorial(i)\n",
        "        return funcAprox\n",
        "    else:\n",
        "        print(\"En la función exponencial la base no puede ser 1, porque entonces se convertiría en una función constante\")\n",
        "\n",
        "if __name__ == \"__main__\":\n",
        "    #Le pedimos al usuario que ingrese un valor para la base\n",
        "    x : float = float(input(\"Ingrese un valor para x: \"))\n",
        "    e : int = 1\n",
        "    aprox = aproxFunc(x, e)\n",
        "    real = exp(x)\n",
        "\n",
        "    #Para que el exponente sea el correcto creamos un while con la siguiente operación, así miramos la aproximación\n",
        "    while ((real - aprox)/real*100)>0.1:\n",
        "        aprox: float = aproxFunc(x, e)\n",
        "        #Actualizamos cada vez el exponente\n",
        "        e += 1\n",
        "    print(e, \" es el valor del exponente para que funcione la aproximación\")\n",
        "\n",
        "    #Restamos el valor real con el exponente\n",
        "    difAprox = real - aprox\n",
        "\n",
        "    #Imprimimos los siguientes valores\n",
        "    print(\"La aproximación de la función exponencial es\", aprox)\n",
        "    print(\"La función exponencial real es\", real)\n",
        "    print(\"La diferencia de la función real y la aproximación es\", difAprox)"
      ]
    },
    {
      "cell_type": "markdown",
      "metadata": {
        "id": "F2YnmO9M34_P"
      },
      "source": [
        "#### 9. Diseñar una función que permita calcular una aproximación de la función seno alrededor de 0 para cualquier valor x (real), utilizando los primeros n términos de la serie de Maclaurin. Nota: use math para traer la función seno y mostrar la diferencia entre el valor real y la aproximación."
      ]
    },
    {
      "cell_type": "code",
      "execution_count": null,
      "metadata": {
        "id": "FG_hR4BR34_Q",
        "outputId": "129aae9e-1e0d-4c2d-9051-40117e2c56b4"
      },
      "outputs": [
        {
          "name": "stdout",
          "output_type": "stream",
          "text": [
            "9  es el valor del exponente para que funcione la aproximación\n",
            "La aproximación de la función seno es -0.9587763690226112\n",
            "La función seno real es -0.9589242746631385\n",
            "La diferencia de la función real y la aproximación es -0.00014790564052724609\n"
          ]
        }
      ],
      "source": [
        "#Importamos math y de math traemos la función seno y al factorial\n",
        "from math import sin, factorial\n",
        "#Creamos una función que nos ayude a llegar a la aproximación de la función seno\n",
        "def aproxFuncSen (b:float, e:int) -> float:\n",
        "    funcSen: float = 0\n",
        "    for i in range(0, e+1):\n",
        "        funcSen += ((-1)**i)*((b**((2*i)+1))/factorial((2*i)+1))\n",
        "    return funcSen\n",
        "\n",
        "if __name__==\"__main__\":\n",
        "    #Le pedimos al usuario que ingrese un valor para la base\n",
        "    b = float(input(\"Ingrese un valor para la base 'b': \"))\n",
        "    e : int = 1\n",
        "    aprox = aproxFuncSen(b, e)\n",
        "    real = sin(b)\n",
        "\n",
        "    #Para que el exponente sea el correcto creamos un while con la siguiente operación, así miramos la aproximación\n",
        "    while abs((real - aprox)/real*100)>0.1:\n",
        "        aprox: float = aproxFuncSen(b, e)\n",
        "        #Actualizamos cada vez el exponente\n",
        "        e += 1\n",
        "    print(e, \" es el valor del exponente para que funcione la aproximación\")\n",
        "\n",
        "    #Restamos el valor real con el exponente\n",
        "    difAprox = real - aprox\n",
        "\n",
        "    #Imprimimos\n",
        "    print(\"La aproximación de la función seno es\", aprox)\n",
        "    print(\"La función seno real es\", real)\n",
        "    print(\"La diferencia de la función real y la aproximación es\", difAprox)"
      ]
    },
    {
      "cell_type": "markdown",
      "metadata": {
        "id": "zPrE-IIQ34_Q"
      },
      "source": [
        "#### 10. Diseñar una función que permita calcular una aproximación de la función arcotangente alrededor de 0 para cualquier valor x en el rango [-1, 1], utilizando los primeros n términos de la serie de Maclaurin. Nota: use math para traer la función arctan y mostrar la diferencia entre el valor real y la aproximación."
      ]
    },
    {
      "cell_type": "code",
      "execution_count": null,
      "metadata": {
        "id": "f94VeP7R34_R",
        "outputId": "f3a56836-675d-44d7-dfdb-0027da8c9523"
      },
      "outputs": [
        {
          "name": "stdout",
          "output_type": "stream",
          "text": [
            "319  es el valor del exponente para que funcione la aproximación\n",
            "La aproximación de la función ArcTan es 0.7861818605316911\n",
            "La función ArcTan real es 0.7853981633974483\n",
            "La diferencia de la función real y la aproximación es -0.0007836971342428667\n"
          ]
        }
      ],
      "source": [
        "#Importamos math y de math traemos la función ArcTan\n",
        "from math import atan\n",
        "#Creamos una función que nos ayude a llegar a la aproximación de la función ArcTan\n",
        "def aproxFuncArcTan (b:float, e:int) -> float:\n",
        "    funcArcTan: float = 0\n",
        "    for i in range(0, e+1):\n",
        "        funcArcTan += ((-1)**i)*((b**(2*i+1))/(2*i+1))\n",
        "    return funcArcTan\n",
        "\n",
        "if __name__==\"__main__\":\n",
        "    #Le pedimos al usuario que ingrese un valor para la base, que por regla debe estar entre -1 y 1\n",
        "    b = float(input(\"Ingrese un valor para la base 'b' recuerde que debe ser un valor entre -1 y 1: \"))\n",
        "    e : int = 1\n",
        "    aprox: float = aproxFuncArcTan(b, e)\n",
        "    real = atan(b)\n",
        "\n",
        "    #Para que el exponente sea el correcto creamos un while con la siguiente operación, así miramos la aproximación\n",
        "    #Pero primero ponemos uncondicional que haga que el usuario ponga un valor entre -1 y 1\n",
        "    if b<-1 or b>1:\n",
        "        print(\"Debe ser un valor entre -1 y 1\")\n",
        "    else:\n",
        "        while abs((real - aprox)/real*100)>0.1:\n",
        "            aprox: float = aproxFuncArcTan(b, e)\n",
        "            #Actualizamos cada vez el exponente\n",
        "            e += 1\n",
        "        print(e, \" es el valor del exponente para que funcione la aproximación\")\n",
        "\n",
        "    #Restamos el valor real con el exponente\n",
        "        difAprox = real - aprox\n",
        "\n",
        "    #Imprimimos\n",
        "        print(\"La aproximación de la función ArcTan es\", aprox)\n",
        "        print(\"La función ArcTan real es\", real)\n",
        "        print(\"La diferencia de la función real y la aproximación es\", difAprox)"
      ]
    }
  ],
  "metadata": {
    "kernelspec": {
      "display_name": "Python 3",
      "language": "python",
      "name": "python3"
    },
    "language_info": {
      "codemirror_mode": {
        "name": "ipython",
        "version": 3
      },
      "file_extension": ".py",
      "mimetype": "text/x-python",
      "name": "python",
      "nbconvert_exporter": "python",
      "pygments_lexer": "ipython3",
      "version": "3.12.0"
    },
    "colab": {
      "provenance": [],
      "include_colab_link": true
    }
  },
  "nbformat": 4,
  "nbformat_minor": 0
}